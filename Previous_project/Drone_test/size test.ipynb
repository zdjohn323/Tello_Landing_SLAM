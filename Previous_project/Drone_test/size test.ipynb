{
 "cells": [
  {
   "cell_type": "code",
   "execution_count": 38,
   "metadata": {},
   "outputs": [],
   "source": [
    "import numpy as np\n",
    "A=np.array([[[1,2],[1,2]],[[1,2],[1,3]],[[1,2],[1,4]]])\n",
    "b=[np.shape(A),np.shape(A)]\n",
    "c=np.array(np.shape(A))\n",
    "d=np.delete(A,range(1,2),axis=0)\n",
    "# d=np.vstack((np.array([0,0]),c))\n",
    "# e=np.delete(d,(0,1),axis=0)\n"
   ]
  },
  {
   "cell_type": "code",
   "execution_count": null,
   "metadata": {},
   "outputs": [],
   "source": []
  }
 ],
 "metadata": {
  "interpreter": {
   "hash": "fdbece1b7aa6520a78c71c2e824cb62cc3fb3a51544769543d0861ed3624230d"
  },
  "kernelspec": {
   "display_name": "Python 3.9.6 64-bit",
   "name": "python3"
  },
  "language_info": {
   "codemirror_mode": {
    "name": "ipython",
    "version": 3
   },
   "file_extension": ".py",
   "mimetype": "text/x-python",
   "name": "python",
   "nbconvert_exporter": "python",
   "pygments_lexer": "ipython3",
   "version": "3.9.6"
  },
  "orig_nbformat": 4
 },
 "nbformat": 4,
 "nbformat_minor": 2
}
